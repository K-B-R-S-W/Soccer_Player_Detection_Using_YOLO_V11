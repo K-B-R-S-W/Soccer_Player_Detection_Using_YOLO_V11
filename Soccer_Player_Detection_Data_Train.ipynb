{
  "nbformat": 4,
  "nbformat_minor": 0,
  "metadata": {
    "colab": {
      "provenance": [],
      "gpuType": "T4"
    },
    "kernelspec": {
      "name": "python3",
      "display_name": "Python 3"
    },
    "language_info": {
      "name": "python"
    },
    "accelerator": "GPU"
  },
  "cells": [
    {
      "cell_type": "markdown",
      "source": [
        "# **1. Mount Google Drive**"
      ],
      "metadata": {
        "id": "pKI8A8ntpMuj"
      }
    },
    {
      "cell_type": "code",
      "source": [
        "from google.colab import drive\n",
        "drive.mount('/content/drive')"
      ],
      "metadata": {
        "id": "ZU9sVLjmpFrh"
      },
      "execution_count": null,
      "outputs": []
    },
    {
      "cell_type": "markdown",
      "source": [
        "# **2. Install Ultralytics**"
      ],
      "metadata": {
        "id": "dtrkT4sCpKPa"
      }
    },
    {
      "cell_type": "code",
      "source": [
        "!pip install ultralytics --upgrade"
      ],
      "metadata": {
        "id": "MExql_G4pFoH"
      },
      "execution_count": null,
      "outputs": []
    },
    {
      "cell_type": "markdown",
      "source": [
        "# **3. Unzip Dataset**"
      ],
      "metadata": {
        "id": "4RpNRgRdpSMt"
      }
    },
    {
      "cell_type": "code",
      "source": [
        "!unzip /content/drive/MyDrive/Model_Training/Soccer_Player_Detection_Data.yolov11.zip -d /content/dataset"
      ],
      "metadata": {
        "id": "uOyE6iAJpFkt"
      },
      "execution_count": null,
      "outputs": []
    },
    {
      "cell_type": "markdown",
      "source": [
        "# **4. Train YOLOv11-m**"
      ],
      "metadata": {
        "id": "sYfVBXlipXHt"
      }
    },
    {
      "cell_type": "code",
      "source": [
        "from ultralytics import YOLO"
      ],
      "metadata": {
        "id": "D7DxkED1pZVS"
      },
      "execution_count": null,
      "outputs": []
    },
    {
      "cell_type": "code",
      "source": [
        "model = YOLO(\"yolov11m.pt\")\n",
        "\n",
        "results = model.train(\n",
        "    data=\"/content/dataset/data.yaml\",\n",
        "    epochs=50,\n",
        "    imgsz=640,\n",
        "    batch=8,\n",
        "    device=0,\n",
        "    name=\"soccer_player_detection\"\n",
        ")"
      ],
      "metadata": {
        "id": "QbK8ptm3pkdb"
      },
      "execution_count": null,
      "outputs": []
    },
    {
      "cell_type": "markdown",
      "source": [
        "# **5. View and Export Training Results**"
      ],
      "metadata": {
        "id": "vto7otAKprFU"
      }
    },
    {
      "cell_type": "code",
      "source": [
        "from IPython.display import Image, display\n",
        "\n",
        "display(Image(filename=\"runs/detect/soccer_player_detection/results.png\"))\n",
        "\n",
        "!cp runs/detect/soccer_player_detection/results.png /content/drive/MyDrive/Model_Training/Output/"
      ],
      "metadata": {
        "id": "Fpt_i5-npvVn"
      },
      "execution_count": null,
      "outputs": []
    },
    {
      "cell_type": "markdown",
      "source": [
        "# **6. Generate and Export Confusion Matrix**"
      ],
      "metadata": {
        "id": "Q75VpSt-p0gX"
      }
    },
    {
      "cell_type": "code",
      "source": [
        "metrics = model.val()\n",
        "\n",
        "!cp runs/detect/soccer_player_detection/confusion_matrix.png /content/drive/MyDrive/Model_Training/Output/"
      ],
      "metadata": {
        "id": "olKxpg9lp56f"
      },
      "execution_count": null,
      "outputs": []
    },
    {
      "cell_type": "markdown",
      "source": [
        "# **7. Save Trained Model**"
      ],
      "metadata": {
        "id": "pdAGNfYzp5p5"
      }
    },
    {
      "cell_type": "code",
      "source": [
        "!cp runs/detect/soccer_player_detection/weights/best.pt /content/drive/MyDrive/Model_Training/Output/"
      ],
      "metadata": {
        "id": "9CW75J-Np8cj"
      },
      "execution_count": null,
      "outputs": []
    },
    {
      "cell_type": "markdown",
      "source": [
        "# **8. Run Inference and Save Predicted Image**"
      ],
      "metadata": {
        "id": "-dCu5-QIqFcq"
      }
    },
    {
      "cell_type": "code",
      "source": [
        "import glob\n",
        "import shutil\n",
        "import os\n",
        "\n",
        "trained_model = YOLO(\"runs/detect/soccer_player_detection/weights/best.pt\")\n",
        "\n",
        "val_images = glob.glob(\"/content/dataset/valid/images/*.jpg\")\n",
        "if val_images:\n",
        "    sample_image = val_images[0]\n",
        "    shutil.copy(sample_image, \"/content/sample.jpg\")\n",
        "\n",
        "    results = trained_model.predict(\n",
        "        source=\"/content/sample.jpg\",\n",
        "        save=True,\n",
        "        imgsz=640,\n",
        "        conf=0.25,\n",
        "        name=\"soccer_prediction\"\n",
        "    )\n",
        "\n",
        "    pred_img_path = \"runs/detect/soccer_prediction/sample.jpg\"\n",
        "    if os.path.exists(pred_img_path):\n",
        "        !cp {pred_img_path} /content/drive/MyDrive/Model_Training/Output/predicted_result.jpg\n",
        "        print(\"Predicted image saved to Google Drive!\")\n",
        "\n",
        "        display(Image(filename=pred_img_path))\n",
        "    else:\n",
        "        print(\"Prediction image not found\")\n",
        "else:\n",
        "    print(\"No validation images found in dataset\")"
      ],
      "metadata": {
        "id": "ScqvWBEvqGxn"
      },
      "execution_count": null,
      "outputs": []
    }
  ]
}